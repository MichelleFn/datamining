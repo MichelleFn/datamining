{
  "nbformat": 4,
  "nbformat_minor": 0,
  "metadata": {
    "colab": {
      "name": "Αντίγραφο datamining.ipynb",
      "provenance": [],
      "collapsed_sections": [],
      "include_colab_link": true
    },
    "kernelspec": {
      "name": "python3",
      "display_name": "Python 3"
    }
  },
  "cells": [
    {
      "cell_type": "markdown",
      "metadata": {
        "id": "view-in-github",
        "colab_type": "text"
      },
      "source": [
        "<a href=\"https://colab.research.google.com/github/MichelleFn/datamining/blob/main/%CE%91%CE%BD%CF%84%CE%AF%CE%B3%CF%81%CE%B1%CF%86%CE%BF_datamining.ipynb\" target=\"_parent\"><img src=\"https://colab.research.google.com/assets/colab-badge.svg\" alt=\"Open In Colab\"/></a>"
      ]
    },
    {
      "cell_type": "code",
      "metadata": {
        "id": "L4lIkKCcL9L_"
      },
      "source": [
        "import numpy as np\n",
        "import pandas as pd\n",
        "import matplotlib.pyplot as plt\n",
        "from sklearn.preprocessing import LabelBinarizer\n",
        "from sklearn import datasets\n",
        "from sklearn import preprocessing\n",
        "from scipy.stats import pearsonr\n",
        "\n",
        "#from google.colab import files\n",
        "#uploaded = files.upload()"
      ],
      "execution_count": null,
      "outputs": []
    },
    {
      "cell_type": "code",
      "metadata": {
        "id": "tDXdxOj-pz8B"
      },
      "source": [
        "from google.colab import drive\n",
        "drive.mount('/content/drive')\n",
        "folder='/content/drive/My Drive/Data_Mining'\n",
        "!ls '/content/drive/My Drive/Data_Mining'"
      ],
      "execution_count": null,
      "outputs": []
    },
    {
      "cell_type": "code",
      "metadata": {
        "id": "642yUlK4rSHW"
      },
      "source": [
        "df = pd.read_csv(folder+'/listings_june.csv')\n",
        "df1 = pd.read_csv(folder+'/listings_july.csv')"
      ],
      "execution_count": null,
      "outputs": []
    },
    {
      "cell_type": "code",
      "metadata": {
        "id": "u03_1jS5UFbS"
      },
      "source": [
        "to_drop = ['host_name','host_id','name','id','neighbourhood_group','last_review']"
      ],
      "execution_count": null,
      "outputs": []
    },
    {
      "cell_type": "code",
      "metadata": {
        "id": "1wvXt94tW8zv"
      },
      "source": [
        "df.drop(to_drop, inplace=True, axis=1)\n"
      ],
      "execution_count": null,
      "outputs": []
    },
    {
      "cell_type": "code",
      "metadata": {
        "id": "JaWKZTGbdXhD"
      },
      "source": [
        "df1.drop(to_drop, inplace=True, axis=1)"
      ],
      "execution_count": null,
      "outputs": []
    },
    {
      "cell_type": "code",
      "metadata": {
        "id": "w1hHctEiD-ad"
      },
      "source": [
        "#converts categorical \"room_type\" to nominal values 0,1,2,3\n",
        "from sklearn.preprocessing import LabelEncoder\n",
        "gle = LabelEncoder()\n",
        "room_labels = gle.fit_transform(df['room_type'])\n",
        "room_mappings = {index: label for index, label in \n",
        "                  enumerate(gle.classes_)}\n",
        "room_mappings\n",
        "df['Room_Type_Label'] = room_labels\n"
      ],
      "execution_count": null,
      "outputs": []
    },
    {
      "cell_type": "code",
      "metadata": {
        "id": "2EjZlEbjdiCC"
      },
      "source": [
        "room_labels = gle.fit_transform(df1['room_type'])\n",
        "room_mappings = {index: label for index, label in \n",
        "                  enumerate(gle.classes_)}\n",
        "room_mappings\n",
        "df1['Room_Type_Label'] = room_labels"
      ],
      "execution_count": null,
      "outputs": []
    },
    {
      "cell_type": "code",
      "metadata": {
        "id": "iLXpjv1gFdlN"
      },
      "source": [
        "for col in df.columns: #how many % has empty values\n",
        "    pct_missing = np.mean(df[col].isnull())\n",
        "    print('{} - {}%'.format(col, round(pct_missing*100)))"
      ],
      "execution_count": null,
      "outputs": []
    },
    {
      "cell_type": "code",
      "metadata": {
        "id": "bxPRtAVbY-Ty"
      },
      "source": [
        "mean_review = int(df['reviews_per_month'].mean())\n",
        "mean_review\n",
        "df['reviews_per_month'] = df['reviews_per_month'].fillna(mean_review)"
      ],
      "execution_count": null,
      "outputs": []
    },
    {
      "cell_type": "code",
      "metadata": {
        "id": "UeYWB5GCdr2F"
      },
      "source": [
        "df1['reviews_per_month'] = df1['reviews_per_month'].fillna(mean_review)"
      ],
      "execution_count": null,
      "outputs": []
    },
    {
      "cell_type": "code",
      "metadata": {
        "id": "gObSThYsQSWt"
      },
      "source": [
        "df['cost_per_stay'] = df['price'] * df['minimum_nights'] #extra value how much it costs to stay\n",
        "df.to_csv('listings.csv') \n"
      ],
      "execution_count": null,
      "outputs": []
    },
    {
      "cell_type": "code",
      "metadata": {
        "id": "52VLW1AZdu_H"
      },
      "source": [
        "df1['cost_per_stay'] = df1['price'] * df1['minimum_nights'] #extra value how much it costs to stay\n",
        "df1.to_csv('listings2.csv') "
      ],
      "execution_count": null,
      "outputs": []
    },
    {
      "cell_type": "code",
      "metadata": {
        "id": "i5ynIDdKN8DI"
      },
      "source": [
        "#one-hot encoding for room type\n",
        "y= LabelBinarizer().fit_transform(df.room_type)\n",
        "y = pd.DataFrame({'Entire home/apt': y[:, 0], 'Hotel room': y[0, 1], 'Private room': y[1, 2], 'Shared room': y[2,3]})\n",
        "pd.concat([df, y], axis=1)"
      ],
      "execution_count": null,
      "outputs": []
    },
    {
      "cell_type": "code",
      "metadata": {
        "id": "E7fm8z9UeARe"
      },
      "source": [
        "y= LabelBinarizer().fit_transform(df1.room_type)\n",
        "y = pd.DataFrame({'Entire home/apt': y[:, 0], 'Hotel room': y[0, 1], 'Private room': y[1, 2], 'Shared room': y[2,3]})\n",
        "pd.concat([df1, y], axis=1)"
      ],
      "execution_count": null,
      "outputs": []
    },
    {
      "cell_type": "code",
      "metadata": {
        "id": "ktOkOHbsQ39_"
      },
      "source": [
        "fig, ax = plt.subplots(figsize=(16,8))\n",
        "ax.scatter(df['minimum_nights'], df['neighbourhood'])\n",
        "ax.set_xlabel('minimum nights')\n",
        "ax.set_ylabel('price')\n",
        "plt.show()"
      ],
      "execution_count": null,
      "outputs": []
    },
    {
      "cell_type": "code",
      "metadata": {
        "id": "YrrvguIHVrOK",
        "colab": {
          "base_uri": "https://localhost:8080/"
        },
        "outputId": "465fc45f-6e03-4de4-d816-a6174523c89d"
      },
      "source": [
        "df['minimum_nights'].mean()"
      ],
      "execution_count": null,
      "outputs": [
        {
          "output_type": "execute_result",
          "data": {
            "text/plain": [
              "4.255082199045431"
            ]
          },
          "metadata": {
            "tags": []
          },
          "execution_count": 17
        }
      ]
    },
    {
      "cell_type": "code",
      "metadata": {
        "id": "SGk9JC0d2dnY"
      },
      "source": [
        "df.describe()"
      ],
      "execution_count": null,
      "outputs": []
    },
    {
      "cell_type": "code",
      "metadata": {
        "id": "-cIHPNhv4qu8"
      },
      "source": [
        "#minimum nights has some outlier values so we removed values that were higher than 10\n",
        "#we used IQR method to find out which columns have the most outlier values \n",
        "Q1 = df.quantile(0.25)\n",
        "Q3 = df.quantile(0.75)\n",
        "IQR = Q3 - Q1\n",
        "print(IQR)\n",
        "df = df[df['minimum_nights'] <= 10]"
      ],
      "execution_count": null,
      "outputs": []
    },
    {
      "cell_type": "code",
      "metadata": {
        "id": "GifbQIpgeHBK"
      },
      "source": [
        "Q1 = df1.quantile(0.25)\n",
        "Q3 = df1.quantile(0.75)\n",
        "IQR = Q3 - Q1\n",
        "print(IQR)\n",
        "df1 = df1[df1['minimum_nights'] <= 10]"
      ],
      "execution_count": null,
      "outputs": []
    },
    {
      "cell_type": "code",
      "metadata": {
        "id": "5F998Y61_vbL"
      },
      "source": [
        "df1.corr(method ='pearson') "
      ],
      "execution_count": null,
      "outputs": []
    },
    {
      "cell_type": "code",
      "metadata": {
        "id": "TkEirT_q6dsI"
      },
      "source": [
        "df['location_price_category']=''"
      ],
      "execution_count": null,
      "outputs": []
    },
    {
      "cell_type": "code",
      "metadata": {
        "id": "txRFP6kGz-Xk"
      },
      "source": [
        "df['location_price_category'] = np.where(df['neighbourhood'] == 'ΑΜΠΕΛΟΚΗΠΟΙ', 4,df['location_price_category'])\n",
        "df['location_price_category'] = np.where(df['neighbourhood'] == 'ΕΜΠΟΡΙΚΟ ΤΡΙΓΩΝΟ-ΠΛΑΚΑ',4,df['location_price_category'])\n",
        "df['location_price_category'] = np.where(df['neighbourhood'] == 'ΚΕΡΑΜΕΙΚΟΣ', 6,df['location_price_category'])\n",
        "df['location_price_category'] = np.where(df['neighbourhood'] == 'ΑΓΙΟΣ ΝΙΚΟΛΑΟΣ',5,df['location_price_category'])\n",
        "df['location_price_category'] = np.where(df['neighbourhood'] == 'ΠΑΓΚΡΑΤΙ',4,df['location_price_category'])\n",
        "df['location_price_category'] = np.where(df['neighbourhood'] == 'ΠΛΑΤΕΙΑ ΑΤΤΙΚΗΣ', 5,df['location_price_category'])\n",
        "df['location_price_category'] = np.where(df['neighbourhood'] == 'ΣΤΑΔΙΟ', 3,df['location_price_category'])\n",
        "df['location_price_category'] = np.where(df['neighbourhood'] == 'ΑΓΙΟΣ ΚΩΝΣΤΑΝΤΙΝΟΣ-ΠΛΑΤΕΙΑ ΒΑΘΗΣ', 5,df['location_price_category'])\n",
        "df['location_price_category'] = np.where(df['neighbourhood'] == '1Ο ΝΕΚΡΟΤΑΦΕΙΟ', 4,df['location_price_category'])\n",
        "df['location_price_category'] = np.where(df['neighbourhood'] == 'ΜΟΥΣΕΙΟ-ΕΞΑΡΧΕΙΑ-ΝΕΑΠΟΛΗ', 3,df['location_price_category'])\n",
        "df['location_price_category'] = np.where(df['neighbourhood'] == 'ΑΚΑΔΗΜΙΑ ΠΛΑΤΩΝΟΣ', 7,df['location_price_category'])\n",
        "df['location_price_category'] = np.where(df['neighbourhood'] == 'ΚΟΥΚΑΚΙ-ΜΑΚΡΥΓΙΑΝΝΗ', 4,df['location_price_category'])\n",
        "df['location_price_category'] = np.where(df['neighbourhood'] == 'ΓΟΥΒΑ', 4,df['location_price_category'])\n",
        "df['location_price_category'] = np.where(df['neighbourhood'] == 'ΝΕΑ ΚΥΨΕΛΗ', 4,df['location_price_category'])\n",
        "df['location_price_category'] = np.where(df['neighbourhood'] == 'ΚΟΛΩΝΑΚΙ', 1,df['location_price_category'])\n",
        "df['location_price_category'] = np.where(df['neighbourhood'] == 'ΑΝΩ ΚΥΨΕΛΗ', 4,df['location_price_category'])\n",
        "df['location_price_category'] = np.where(df['neighbourhood'] == 'ΒΟΤΑΝΙΚΟΣ', 7,df['location_price_category'])\n",
        "df['location_price_category'] = np.where(df['neighbourhood'] == 'ΑΝΩ ΠΑΤΗΣΙΑ', 4,df['location_price_category'])\n",
        "df['location_price_category'] = np.where(df['neighbourhood'] == 'ΝΕΟΣ ΚΟΣΜΟΣ', 5,df['location_price_category'])\n",
        "df['location_price_category'] = np.where(df['neighbourhood'] == 'ΠΛΑΤΕΙΑ ΑΜΕΡΙΚΗΣ', 5,df['location_price_category'])\n",
        "df['location_price_category'] = np.where(df['neighbourhood'] == 'ΙΛΙΣΙΑ', 4,df['location_price_category'])\n",
        "df['location_price_category'] = np.where(df['neighbourhood'] == 'ΘΗΣΕΙΟ', 2,df['location_price_category'])\n",
        "df['location_price_category'] = np.where(df['neighbourhood'] == 'ΠΕΔΙΟ ΑΡΕΩΣ', 3,df['location_price_category'])\n",
        "df['location_price_category'] = np.where(df['neighbourhood'] == 'ΠΕΤΡΑΛΩΝΑ', 5,df['location_price_category'])\n",
        "df['location_price_category'] = np.where(df['neighbourhood'] == 'ΑΚΡΟΠΟΛΗ', 2,df['location_price_category'])\n",
        "df['location_price_category'] = np.where(df['neighbourhood'] == 'ΓΚΥΖΗ', 4,df['location_price_category'])\n",
        "df['location_price_category'] = np.where(df['neighbourhood'] == 'ΠΡΟΜΠΟΝΑ', 7,df['location_price_category'])\n",
        "df['location_price_category'] = np.where(df['neighbourhood'] == 'ΓΟΥΔΙ', 4,df['location_price_category'])\n",
        "df['location_price_category'] = np.where(df['neighbourhood'] == 'ΓΚΑΖΙ', 6,df['location_price_category'])\n",
        "df['location_price_category'] = np.where(df['neighbourhood'] == 'ΚΟΛΩΝΟΣ', 7,df['location_price_category'])\n",
        "df['location_price_category'] = np.where(df['neighbourhood'] == 'ΝΙΡΒΑΝΑ', 6,df['location_price_category'])\n",
        "df['location_price_category'] = np.where(df['neighbourhood'] == 'ΖΑΠΠΕΙΟ', 2,df['location_price_category'])\n",
        "df['location_price_category'] = np.where(df['neighbourhood'] == 'ΚΥΨΕΛΗ', 4,df['location_price_category'])\n",
        "df['location_price_category'] = np.where(df['neighbourhood'] == 'ΛΥΚΑΒΗΤΤΟΣ', 1,df['location_price_category'])\n",
        "df['location_price_category'] = np.where(df['neighbourhood'] == 'ΑΓΙΟΣ ΕΛΕΥΘΕΡΙΟΣ', 5,df['location_price_category'])\n",
        "df['location_price_category'] = np.where(df['neighbourhood'] == 'ΠΑΤΗΣΙΑ', 4,df['location_price_category'])\n",
        "df['location_price_category'] = np.where(df['neighbourhood'] == 'ΕΛΛΗΝΟΡΩΣΩΝ', 3,df['location_price_category'])\n",
        "df['location_price_category'] = np.where(df['neighbourhood'] == 'ΠΕΝΤΑΓΩΝΟ', 2,df['location_price_category'])\n",
        "df['location_price_category'] = np.where(df['neighbourhood'] == 'ΡΙΖΟΥΠΟΛΗ', 5,df['location_price_category'])\n",
        "df['location_price_category'] = np.where(df['neighbourhood'] == 'ΠΟΛΥΓΩΝΟ', 4,df['location_price_category'])\n",
        "df['location_price_category'] = np.where(df['neighbourhood'] == 'ΣΕΠΟΛΙΑ', 7,df['location_price_category'])\n",
        "df['location_price_category'] = np.where(df['neighbourhood'] == 'ΣΤΑΘΜΟΣ ΛΑΡΙΣΗΣ', 5,df['location_price_category'])\n",
        "df['location_price_category'] = np.where(df['neighbourhood'] == 'ΡΙΓΗΛΛΗ', 1,df['location_price_category'])\n",
        "df['location_price_category'] = np.where(df['neighbourhood'] == 'ΚΟΛΟΚΥΝΘΟΥ', 7,df['location_price_category'])\n",
        "df['location_price_category'] = np.where(df['neighbourhood'] == 'ΡΟΥΦ', 7,df['location_price_category'])"
      ],
      "execution_count": null,
      "outputs": []
    },
    {
      "cell_type": "code",
      "metadata": {
        "id": "NKxKw7bth_xc"
      },
      "source": [
        "df1['location_price_category']=''"
      ],
      "execution_count": null,
      "outputs": []
    },
    {
      "cell_type": "code",
      "metadata": {
        "id": "D1kGbPgkkYTG"
      },
      "source": [
        "df1\n"
      ],
      "execution_count": null,
      "outputs": []
    },
    {
      "cell_type": "code",
      "metadata": {
        "id": "8YJIEeCUhwkV"
      },
      "source": [
        "df1['location_price_category'] = np.where(df1['neighbourhood'] == 'ΑΜΠΕΛΟΚΗΠΟΙ', 4,df['location_price_category'])\n",
        "df1['location_price_category'] = np.where(df1['neighbourhood'] == 'ΕΜΠΟΡΙΚΟ ΤΡΙΓΩΝΟ-ΠΛΑΚΑ',4,df['location_price_category'])\n",
        "df1['location_price_category'] = np.where(df1['neighbourhood'] == 'ΚΕΡΑΜΕΙΚΟΣ', 6,df['location_price_category'])\n",
        "df1['location_price_category'] = np.where(df1['neighbourhood'] == 'ΑΓΙΟΣ ΝΙΚΟΛΑΟΣ',5,df['location_price_category'])\n",
        "df1['location_price_category'] = np.where(df1['neighbourhood'] == 'ΠΑΓΚΡΑΤΙ',4,df['location_price_category'])\n",
        "df1['location_price_category'] = np.where(df1['neighbourhood'] == 'ΠΛΑΤΕΙΑ ΑΤΤΙΚΗΣ', 5,df['location_price_category'])\n",
        "df1['location_price_category'] = np.where(df1['neighbourhood'] == 'ΣΤΑΔΙΟ', 3,df['location_price_category'])\n",
        "df1['location_price_category'] = np.where(df1['neighbourhood'] == 'ΑΓΙΟΣ ΚΩΝΣΤΑΝΤΙΝΟΣ-ΠΛΑΤΕΙΑ ΒΑΘΗΣ', 5,df['location_price_category'])\n",
        "df1['location_price_category'] = np.where(df1['neighbourhood'] == '1Ο ΝΕΚΡΟΤΑΦΕΙΟ', 4,df['location_price_category'])\n",
        "df1['location_price_category'] = np.where(df['neighbourhood'] == 'ΜΟΥΣΕΙΟ-ΕΞΑΡΧΕΙΑ-ΝΕΑΠΟΛΗ', 3,df['location_price_category'])\n",
        "df1['location_price_category'] = np.where(df['neighbourhood'] == 'ΑΚΑΔΗΜΙΑ ΠΛΑΤΩΝΟΣ', 7,df['location_price_category'])\n",
        "df1['location_price_category'] = np.where(df['neighbourhood'] == 'ΚΟΥΚΑΚΙ-ΜΑΚΡΥΓΙΑΝΝΗ', 4,df['location_price_category'])\n",
        "df1['location_price_category'] = np.where(df['neighbourhood'] == 'ΓΟΥΒΑ', 4,df['location_price_category'])\n",
        "df1['location_price_category'] = np.where(df['neighbourhood'] == 'ΝΕΑ ΚΥΨΕΛΗ', 4,df['location_price_category'])\n",
        "df1['location_price_category'] = np.where(df['neighbourhood'] == 'ΚΟΛΩΝΑΚΙ', 1,df['location_price_category'])\n",
        "df1['location_price_category'] = np.where(df['neighbourhood'] == 'ΑΝΩ ΚΥΨΕΛΗ', 4,df['location_price_category'])\n",
        "df1['location_price_category'] = np.where(df['neighbourhood'] == 'ΒΟΤΑΝΙΚΟΣ', 7,df['location_price_category'])\n",
        "df1['location_price_category'] = np.where(df['neighbourhood'] == 'ΑΝΩ ΠΑΤΗΣΙΑ', 4,df['location_price_category'])\n",
        "df1['location_price_category'] = np.where(df['neighbourhood'] == 'ΝΕΟΣ ΚΟΣΜΟΣ', 5,df['location_price_category'])\n",
        "df1['location_price_category'] = np.where(df['neighbourhood'] == 'ΠΛΑΤΕΙΑ ΑΜΕΡΙΚΗΣ', 5,df['location_price_category'])\n",
        "df1['location_price_category'] = np.where(df['neighbourhood'] == 'ΙΛΙΣΙΑ', 4,df['location_price_category'])\n",
        "df1['location_price_category'] = np.where(df['neighbourhood'] == 'ΘΗΣΕΙΟ', 2,df['location_price_category'])\n",
        "df1['location_price_category'] = np.where(df['neighbourhood'] == 'ΠΕΔΙΟ ΑΡΕΩΣ', 3,df['location_price_category'])\n",
        "df1['location_price_category'] = np.where(df['neighbourhood'] == 'ΠΕΤΡΑΛΩΝΑ', 5,df['location_price_category'])\n",
        "df1['location_price_category'] = np.where(df['neighbourhood'] == 'ΑΚΡΟΠΟΛΗ', 2,df['location_price_category'])\n",
        "df1['location_price_category'] = np.where(df['neighbourhood'] == 'ΓΚΥΖΗ', 4,df['location_price_category'])\n",
        "df1['location_price_category'] = np.where(df['neighbourhood'] == 'ΠΡΟΜΠΟΝΑ', 7,df['location_price_category'])\n",
        "df1['location_price_category'] = np.where(df['neighbourhood'] == 'ΓΟΥΔΙ', 4,df['location_price_category'])\n",
        "df1['location_price_category'] = np.where(df['neighbourhood'] == 'ΓΚΑΖΙ', 6,df['location_price_category'])\n",
        "df1['location_price_category'] = np.where(df['neighbourhood'] == 'ΚΟΛΩΝΟΣ', 7,df['location_price_category'])\n",
        "df1['location_price_category'] = np.where(df['neighbourhood'] == 'ΝΙΡΒΑΝΑ', 6,df['location_price_category'])\n",
        "df1['location_price_category'] = np.where(df['neighbourhood'] == 'ΖΑΠΠΕΙΟ', 2,df['location_price_category'])\n",
        "df1['location_price_category'] = np.where(df['neighbourhood'] == 'ΚΥΨΕΛΗ', 4,df['location_price_category'])\n",
        "df1['location_price_category'] = np.where(df['neighbourhood'] == 'ΛΥΚΑΒΗΤΤΟΣ', 1,df['location_price_category'])\n",
        "df1['location_price_category'] = np.where(df['neighbourhood'] == 'ΑΓΙΟΣ ΕΛΕΥΘΕΡΙΟΣ', 5,df['location_price_category'])\n",
        "df1['location_price_category'] = np.where(df['neighbourhood'] == 'ΠΑΤΗΣΙΑ', 4,df['location_price_category'])\n",
        "df1['location_price_category'] = np.where(df['neighbourhood'] == 'ΕΛΛΗΝΟΡΩΣΩΝ', 3,df['location_price_category'])\n",
        "df1['location_price_category'] = np.where(df['neighbourhood'] == 'ΠΕΝΤΑΓΩΝΟ', 2,df['location_price_category'])\n",
        "df1['location_price_category'] = np.where(df['neighbourhood'] == 'ΡΙΖΟΥΠΟΛΗ', 5,df['location_price_category'])\n",
        "df1['location_price_category'] = np.where(df['neighbourhood'] == 'ΠΟΛΥΓΩΝΟ', 4,df['location_price_category'])\n",
        "df1['location_price_category'] = np.where(df['neighbourhood'] == 'ΣΕΠΟΛΙΑ', 7,df['location_price_category'])\n",
        "df1['location_price_category'] = np.where(df['neighbourhood'] == 'ΣΤΑΘΜΟΣ ΛΑΡΙΣΗΣ', 5,df['location_price_category'])\n",
        "df1['location_price_category'] = np.where(df['neighbourhood'] == 'ΡΙΓΗΛΛΗ', 1,df['location_price_category'])\n",
        "df1['location_price_category'] = np.where(df['neighbourhood'] == 'ΚΟΛΟΚΥΝΘΟΥ', 7,df['location_price_category'])\n",
        "df1['location_price_category'] = np.where(df['neighbourhood'] == 'ΡΟΥΦ', 7,df['location_price_category'])"
      ],
      "execution_count": null,
      "outputs": []
    },
    {
      "cell_type": "code",
      "metadata": {
        "id": "uoH_reOS6jE2"
      },
      "source": [
        "df.corr(method ='pearson') "
      ],
      "execution_count": null,
      "outputs": []
    },
    {
      "cell_type": "code",
      "metadata": {
        "id": "rwZ6dV8Hbg2R"
      },
      "source": [
        "df"
      ],
      "execution_count": null,
      "outputs": []
    },
    {
      "cell_type": "code",
      "metadata": {
        "id": "ozUSO-VycAqy"
      },
      "source": [
        "from sklearn.model_selection import train_test_split\n",
        "from sklearn import linear_model\n",
        "\n",
        "x, y= df.iloc[:,0:29] ,df.iloc[:,29:30]\n",
        "x_train, x_test, y_train, y_test = train_test_split(x, y, train_size=0.9, random_state=None)"
      ],
      "execution_count": null,
      "outputs": []
    }
  ]
}