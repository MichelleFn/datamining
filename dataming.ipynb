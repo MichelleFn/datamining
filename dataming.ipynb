{
  "nbformat": 4,
  "nbformat_minor": 0,
  "metadata": {
    "colab": {
      "name": "dataming.ipynb",
      "provenance": [],
      "collapsed_sections": [],
      "include_colab_link": true
    },
    "kernelspec": {
      "name": "python3",
      "display_name": "Python 3"
    }
  },
  "cells": [
    {
      "cell_type": "markdown",
      "metadata": {
        "id": "view-in-github",
        "colab_type": "text"
      },
      "source": [
        "<a href=\"https://colab.research.google.com/github/MichelleFn/datamining/blob/main/dataming.ipynb\" target=\"_parent\"><img src=\"https://colab.research.google.com/assets/colab-badge.svg\" alt=\"Open In Colab\"/></a>"
      ]
    },
    {
      "cell_type": "code",
      "metadata": {
        "id": "4GpssEQXIO-Q"
      },
      "source": [
        "import numpy as np\n",
        "import pandas as pd\n",
        "import matplotlib.pyplot as plt\n",
        "from sklearn.preprocessing import LabelBinarizer\n",
        "from sklearn import datasets\n",
        "from sklearn import preprocessing\n",
        "from scipy.stats import pearsonr\n",
        "from sklearn.model_selection import train_test_split\n",
        "from sklearn.metrics import r2_score\n",
        "from sklearn.metrics import mean_squared_error"
      ],
      "execution_count": null,
      "outputs": []
    },
    {
      "cell_type": "code",
      "metadata": {
        "id": "EQDrU-M7IYgL"
      },
      "source": [
        "from google.colab import drive\n",
        "drive.mount('/content/drive')\n",
        "folder='/content/drive/My Drive/Data_Mining'\n",
        "!ls '/content/drive/My Drive/Data_Mining'"
      ],
      "execution_count": null,
      "outputs": []
    },
    {
      "cell_type": "code",
      "metadata": {
        "id": "gSVPdVFeIatz"
      },
      "source": [
        "# Φόρτωση δεδομένων Ιουνίου df και Ιουλίου df1\n",
        "df = pd.read_csv(folder+'/listings_june.csv')\n",
        "df1 = pd.read_csv(folder+'/listings_july.csv')"
      ],
      "execution_count": null,
      "outputs": []
    },
    {
      "cell_type": "markdown",
      "metadata": {
        "id": "-NIZW_zMJav_"
      },
      "source": [
        "ΑΡΧΙΚΗ ΕΠΕΞΕΡΓΑΣΙΑ\n"
      ]
    },
    {
      "cell_type": "code",
      "metadata": {
        "id": "awtLZVpFIcdu"
      },
      "source": [
        "to_drop = ['host_name','host_id','name','id','neighbourhood_group','last_review']"
      ],
      "execution_count": null,
      "outputs": []
    },
    {
      "cell_type": "code",
      "metadata": {
        "id": "2Ts4IjgQIdT8"
      },
      "source": [
        "df.drop(to_drop, inplace=True, axis=1)"
      ],
      "execution_count": null,
      "outputs": []
    },
    {
      "cell_type": "code",
      "metadata": {
        "id": "oJRm8PgWIdX7"
      },
      "source": [
        "df1.drop(to_drop, inplace=True, axis=1)"
      ],
      "execution_count": null,
      "outputs": []
    },
    {
      "cell_type": "code",
      "metadata": {
        "id": "a1qyVYhVIdfH"
      },
      "source": [
        "mean_review = int(df['reviews_per_month'].mean())\n",
        "mean_review\n",
        "df['reviews_per_month'] = df['reviews_per_month'].fillna(mean_review)"
      ],
      "execution_count": null,
      "outputs": []
    },
    {
      "cell_type": "code",
      "metadata": {
        "id": "1ucmKMmkIdhp"
      },
      "source": [
        "mean_review = int(df1['reviews_per_month'].mean())\n",
        "mean_review\n",
        "df1['reviews_per_month'] = df1['reviews_per_month'].fillna(mean_review)"
      ],
      "execution_count": null,
      "outputs": []
    },
    {
      "cell_type": "code",
      "metadata": {
        "id": "zxD_JmLGIdkJ"
      },
      "source": [
        "df['cost_per_stay'] = df['price'] * df['minimum_nights']"
      ],
      "execution_count": null,
      "outputs": []
    },
    {
      "cell_type": "code",
      "metadata": {
        "id": "26nVn6p-Idmg"
      },
      "source": [
        "df1['cost_per_stay'] = df1['price'] * df1['minimum_nights']"
      ],
      "execution_count": null,
      "outputs": []
    },
    {
      "cell_type": "code",
      "metadata": {
        "id": "chpOAf7pI-bx"
      },
      "source": [
        "df = df[df['minimum_nights'] <= 10]"
      ],
      "execution_count": null,
      "outputs": []
    },
    {
      "cell_type": "code",
      "metadata": {
        "id": "Q8BOjNtkI9vG"
      },
      "source": [
        "df1 = df1[df1['minimum_nights'] <= 10]"
      ],
      "execution_count": null,
      "outputs": []
    },
    {
      "cell_type": "code",
      "metadata": {
        "id": "SAW7zLrrIdpG"
      },
      "source": [
        "df['target_price_group'] = 0\n",
        "df['target_price_group'] = np.where((df['price'] > 0) & (df['price'] <= 50), 50, df['target_price_group'])\n",
        "df['target_price_group'] = np.where((df['price'] > 50) & (df['price'] <= 101), 100, df['target_price_group'])\n",
        "df['target_price_group'] = np.where((df['price'] > 101) & (df['price'] <= 201), 200, df['target_price_group'])\n",
        "df['target_price_group'] = np.where((df['price'] > 200) & (df['price'] <= 500), 500, df['target_price_group'])"
      ],
      "execution_count": null,
      "outputs": []
    },
    {
      "cell_type": "code",
      "metadata": {
        "id": "Th6ECrnAIdra"
      },
      "source": [
        "df1['target_price_group'] = 0\n",
        "df1['target_price_group'] = np.where((df1['price'] > 0) & (df1['price'] <= 50), 50, df1['target_price_group'])\n",
        "df1['target_price_group'] = np.where((df1['price'] > 50) & (df1['price'] <= 101), 100, df1['target_price_group'])\n",
        "df1['target_price_group'] = np.where((df1['price'] > 101) & (df1['price'] <= 201), 200, df1['target_price_group'])\n",
        "df1['target_price_group'] = np.where((df1['price'] > 200) & (df1['price'] <= 500), 500, df1['target_price_group'])"
      ],
      "execution_count": null,
      "outputs": []
    },
    {
      "cell_type": "code",
      "metadata": {
        "id": "P5wz4T7BJqwr"
      },
      "source": [
        "!pip install category_encoders"
      ],
      "execution_count": null,
      "outputs": []
    },
    {
      "cell_type": "code",
      "metadata": {
        "id": "ICWSAh4iJq0G"
      },
      "source": [
        "import category_encoders as ce\n",
        "encoder = ce.OneHotEncoder(use_cat_names=True)\n",
        "df_encoded = encoder.fit_transform(df)\n",
        "df_encoded"
      ],
      "execution_count": null,
      "outputs": []
    },
    {
      "cell_type": "code",
      "metadata": {
        "id": "De_4FCuNJq3h"
      },
      "source": [
        "import category_encoders as ce\n",
        "encoder = ce.OneHotEncoder(use_cat_names=True)\n",
        "df1_encoded = encoder.fit_transform(df1)\n",
        "df1_encoded"
      ],
      "execution_count": null,
      "outputs": []
    },
    {
      "cell_type": "code",
      "metadata": {
        "id": "TdJUcVcjJq59"
      },
      "source": [
        "df_encoded[df_encoded['price'] > 500].groupby('price')['price'].count()\n",
        "df_outliers = df_encoded[df_encoded['price'] < 500]"
      ],
      "execution_count": null,
      "outputs": []
    },
    {
      "cell_type": "code",
      "metadata": {
        "id": "apwOnIIPKK03"
      },
      "source": [
        "df1_encoded[df1_encoded['price'] > 500].groupby('price')['price'].count()\n",
        "df1_outliers = df_encoded[df_encoded['price'] < 500]"
      ],
      "execution_count": null,
      "outputs": []
    },
    {
      "cell_type": "code",
      "metadata": {
        "id": "fYkrw2XgKB6G"
      },
      "source": [
        ""
      ],
      "execution_count": null,
      "outputs": []
    },
    {
      "cell_type": "markdown",
      "metadata": {
        "id": "n0kxNG6mJgGT"
      },
      "source": [
        "ΜΕΘΟΔΟΙ REGRESSION"
      ]
    },
    {
      "cell_type": "code",
      "metadata": {
        "id": "mubnpUCKI07Q"
      },
      "source": [
        "#linear regression model for july data\n",
        "def LinearRegression(x_train,y_train,x_test,y_test):\n",
        " from sklearn.linear_model import LinearRegression\n",
        "\n",
        " linear_reg_model = LinearRegression().fit(x_train, y_train)\n",
        " y_pred = linear_reg_model.predict(x_test)  \n",
        "\n",
        " print(\"intercept: \" ,linear_reg_model.intercept_)\n",
        " print(\"coefficceiance :\", linear_reg_model.coef_)\n",
        "\n",
        " print(\"r2_score: \",r2_score(y_test, y_pred))\n",
        " print(\"mean_squared_error: \" ,mean_squared_error(y_test,y_pred))\n",
        "# print(y_test)\n",
        "# print(y_pred)"
      ],
      "execution_count": null,
      "outputs": []
    },
    {
      "cell_type": "code",
      "metadata": {
        "id": "PPSBCVY2JHPF"
      },
      "source": [
        "#decision tree regression for july data\n",
        "def DecisionTreeRegression(x_train,y_train,x_test,y_test):\n",
        " from sklearn.tree import DecisionTreeRegressor\n",
        "\n",
        " d_tree_reg_model = DecisionTreeRegressor()\n",
        " d_tree_reg_model.fit(x_train,y_train)\n",
        " y_pred_tree = d_tree_reg_model.predict(x_test)\n",
        " print(y_test)\n",
        " print(y_pred_tree)\n",
        "\n",
        " print(\"mean squared error: \",mean_squared_error(y_test,y_pred_tree))\n",
        " print(\"r2_score:\" ,r2_score(y_test,y_pred_tree))"
      ],
      "execution_count": null,
      "outputs": []
    },
    {
      "cell_type": "code",
      "metadata": {
        "id": "vIZ-3_4FJJQ0"
      },
      "source": [
        "#random forest regression for july data\n",
        "def RandomForestRegression(x_train,y_train,x_test,y_test):\n",
        "  from sklearn.ensemble import RandomForestRegressor\n",
        "\n",
        "  random_forest_reg_model = RandomForestRegressor(n_estimators=200, oob_score=True, random_state=0)\n",
        "  random_forest_reg_model.fit(x_train, y_train)\n",
        "  y_pred_rf = random_forest_reg_model.predict(x_test)\n",
        "  print(y_pred_rf)\n",
        "  print(y_test)\n",
        "  print(\"mean squared error: \",mean_squared_error(y_test,y_pred_rf))\n",
        "  print(\"r2_score:\" ,r2_score(y_test,y_pred_rf))"
      ],
      "execution_count": null,
      "outputs": []
    },
    {
      "cell_type": "code",
      "metadata": {
        "id": "TaXH0fR-JLGR"
      },
      "source": [
        "#regression with svr for july data\n",
        "def SVRegression(x_train,y_train,x_test,y_test):\n",
        "  from sklearn.svm import SVR\n",
        "  svr_model = SVR()\n",
        "  svr_model.fit(x_train,y_train)\n",
        "  y_pred_svr = svr_model.predict(x_test)\n",
        "  print(y_pred_svr)\n",
        "  print(y_test)\n",
        "\n",
        "  print(\"mean squared error: \",mean_squared_error(y_test,y_pred_svr))\n",
        "  print(\"r2_score:\" ,r2_score(y_test,y_pred_svr))"
      ],
      "execution_count": null,
      "outputs": []
    },
    {
      "cell_type": "code",
      "metadata": {
        "id": "VRyuKh-0Knqp"
      },
      "source": [
        "from sklearn.model_selection import train_test_split\n",
        "x_alt_out = df_outliers.loc[:, df_outliers.columns != 'price']\n",
        "y_alt_out  = df_outliers[[\"price\"]]\n",
        "x_train_out, x_test_out, y_train_out, y_test_out = train_test_split(x_alt_out, y_alt_out, train_size=0.9, random_state=None)"
      ],
      "execution_count": null,
      "outputs": []
    },
    {
      "cell_type": "code",
      "metadata": {
        "id": "-7DhhAL4Ldhd"
      },
      "source": [
        "LinearRegression(x_train_out,y_train_out,x_test_out,y_test_out)"
      ],
      "execution_count": null,
      "outputs": []
    },
    {
      "cell_type": "code",
      "metadata": {
        "id": "5A24CwM-LfU3"
      },
      "source": [
        "DecisionTreeRegression(x_train_out,y_train_out,x_test_out,y_test_out)"
      ],
      "execution_count": null,
      "outputs": []
    },
    {
      "cell_type": "code",
      "metadata": {
        "id": "irJjBzk2LfXm"
      },
      "source": [
        "RandomForestRegression(x_train_out,y_train_out,x_test_out,y_test_out)"
      ],
      "execution_count": null,
      "outputs": []
    },
    {
      "cell_type": "code",
      "metadata": {
        "id": "XrhOv3paLfcB"
      },
      "source": [
        "SVRegression(x_train_out,y_train_out,x_test_out,y_test_out)"
      ],
      "execution_count": null,
      "outputs": []
    },
    {
      "cell_type": "code",
      "metadata": {
        "id": "tDs41OwZLfeY"
      },
      "source": [
        "from sklearn.model_selection import train_test_split\n",
        "x_alt_out_july = df1_outliers.loc[:, df1_outliers.columns != 'price']\n",
        "y_alt_out_july  = df1_outliers[[\"price\"]]\n",
        "x_train_out_july, x_test_out_july, y_train_out_july, y_test_out_july = train_test_split(x_alt_out_july, y_alt_out_july, train_size=0.9, random_state=None)"
      ],
      "execution_count": null,
      "outputs": []
    },
    {
      "cell_type": "code",
      "metadata": {
        "id": "6b6eDm-kLmxA"
      },
      "source": [
        "LinearRegression(x_train_out_july,y_train_out_july,x_test_out_july,y_test_out_july)"
      ],
      "execution_count": null,
      "outputs": []
    },
    {
      "cell_type": "code",
      "metadata": {
        "id": "sitQ0lhdLmzw"
      },
      "source": [
        "DecisionTreeRegression(x_train_out_july,y_train_out_july,x_test_out_july,y_test_out_july)"
      ],
      "execution_count": null,
      "outputs": []
    },
    {
      "cell_type": "code",
      "metadata": {
        "id": "my9-OBfLLm37"
      },
      "source": [
        "RandomForestRegression(x_train_out_july,y_train_out_july,x_test_out_july,y_test_out_july)"
      ],
      "execution_count": null,
      "outputs": []
    },
    {
      "cell_type": "code",
      "metadata": {
        "id": "kPzOnNdsLtLM"
      },
      "source": [
        "SVRegression(x_train_out_july,y_train_out_july,x_test_out_july,y_test_out_july)"
      ],
      "execution_count": null,
      "outputs": []
    },
    {
      "cell_type": "markdown",
      "metadata": {
        "id": "JAk0gKNTJkXE"
      },
      "source": [
        "ΜΕΘΟΔΟΙ ΚΑΤΗΓΟΡΙΟΠΟΙΗΣΗΣ"
      ]
    },
    {
      "cell_type": "code",
      "metadata": {
        "id": "-pCBYc6DJOJo"
      },
      "source": [
        "from sklearn.metrics import classification_report, confusion_matrix, accuracy_score\n",
        "from sklearn.metrics import precision_score\n",
        "from sklearn.metrics import recall_score\n",
        "from sklearn.metrics import f1_score"
      ],
      "execution_count": null,
      "outputs": []
    },
    {
      "cell_type": "code",
      "metadata": {
        "id": "TqQCqYkDJONp"
      },
      "source": [
        "#decision trees classifier\n",
        "def DecisionTreeClassifier(x_train,y_train,x_test,y_test):\n",
        " from sklearn.tree import DecisionTreeClassifier\n",
        " dec_tree_clas = DecisionTreeClassifier(criterion='entropy',random_state=0) \n",
        " dec_tree_clas.fit(x_train,y_train)\n",
        " y_pred_dec_tree_clas = dec_tree_clas.predict(x_test)\n",
        " percision = precision_score(y_test, y_pred_dec_tree_clas,average=None)\n",
        " recall = recall_score(y_test, y_pred_dec_tree_clas,average=None)\n",
        " f1 = f1_score(y_test, y_pred_dec_tree_clas,average=None)\n",
        "\n",
        " print(\"percision:\", percision)\n",
        " print(\"recall:\", recall)\n",
        " print(\"f1_score:\", f1)\n",
        "\n",
        "#  print(confusion_matrix(y_test_class, y_pred_dec_tree_clas))\n",
        "#  print(classification_report(y_test_class, y_pred_dec_tree_clas))\n",
        " print(accuracy_score(y_test, y_pred_dec_tree_clas))"
      ],
      "execution_count": null,
      "outputs": []
    },
    {
      "cell_type": "code",
      "metadata": {
        "id": "GWJtrrBrJOQq"
      },
      "source": [
        "#random forest classification\n",
        "def RandomForestClassification(x_train,y_train,x_test,y_test):\n",
        " from sklearn.ensemble import RandomForestClassifier\n",
        "\n",
        "# Create the model with 100 trees\n",
        " random_forest_class_model = RandomForestClassifier(n_estimators=100, \n",
        "                               bootstrap = True,\n",
        "                               max_features = 'sqrt')\n",
        "# Fit on training data\n",
        " random_forest_class_model.fit(x_train, y_train)\n",
        " y_pred_rf_clas = random_forest_class_model.predict(x_test)\n",
        " percision = precision_score(y_test,y_pred_rf_clas,average=None)\n",
        " recall = recall_score(y_test, y_pred_rf_clas,average=None)\n",
        " f1 = f1_score(y_test,y_pred_rf_clas,average=None)\n",
        "\n",
        " print(\"percision:\", percision)\n",
        " print(\"recall:\", recall)\n",
        " print(\"f1_score:\", f1)\n",
        "#  print(confusion_matrix(y_test_class, y_pred_rf_clas))\n",
        "#  print(classification_report(y_test_class, y_pred_rf_clas))\n",
        " print(accuracy_score(y_test, y_pred_rf_clas))\n"
      ],
      "execution_count": null,
      "outputs": []
    },
    {
      "cell_type": "code",
      "metadata": {
        "id": "fC1y_BHwJOTb"
      },
      "source": [
        "def SVClassification(x_train,y_train,x_test,y_test):\n",
        " from sklearn.svm import SVC\n",
        " SupportVectorClassModel = SVC()\n",
        " SupportVectorClassModel.fit(x_train,y_train)\n",
        " y_pred_sv_clas = SupportVectorClassModel.predict(x_test)\n",
        "\n",
        " percision = precision_score(y_test, y_pred_sv_clas,average=None)\n",
        " recall = recall_score(y_test,y_pred_sv_clas,average=None)\n",
        " f1 = f1_score(y_test, y_pred_sv_clas,average=None)\n",
        "\n",
        " print(\"percision:\", percision)\n",
        " print(\"recall:\", recall)\n",
        " print(\"f1_score:\", f1)\n",
        "\n",
        "#  print(confusion_matrix(y_test_class, y_pred_sv_clas))\n",
        "#  print(classification_report(y_test_class, y_pred_sv_clas))\n",
        " print(accuracy_score(y_test, y_pred_sv_clas))\n"
      ],
      "execution_count": null,
      "outputs": []
    },
    {
      "cell_type": "code",
      "metadata": {
        "id": "bzsyaLBpJXGX"
      },
      "source": [
        "#knn classification\n",
        "def knnClassification(x_train,y_train,x_test,y_test):\n",
        " from sklearn.preprocessing import StandardScaler\n",
        " scaler = StandardScaler()\n",
        " scaler.fit(x_train)\n",
        "\n",
        " x_train_scaled = scaler.transform(x_train)\n",
        " x_test_scaled = scaler.transform(x_test)\n",
        "\n",
        " from sklearn.neighbors import KNeighborsClassifier\n",
        " classifier = KNeighborsClassifier(n_neighbors=5)\n",
        " classifier.fit(x_train_scaled, y_train)\n",
        " y_pred_knn = classifier.predict(x_test_scaled)\n",
        "\n",
        " from sklearn.metrics import classification_report, confusion_matrix\n",
        "\n",
        " percision = precision_score(y_test, y_pred_knn,average=None)\n",
        " recall = recall_score(y_test, y_pred_knn,average=None)\n",
        " f1 = f1_score(y_test, y_pred_knn,average=None)\n",
        "\n",
        " print(\"percision:\", percision)\n",
        " print(\"recall:\", recall)\n",
        " print(\"f1_score:\", f1)\n",
        "#  print(confusion_matrix(y_test_class, y_pred_knn))\n",
        "#  print(classification_report(y_test_class, y_pred_knn))\n",
        " print(accuracy_score(y_test, y_pred_knn))\n"
      ],
      "execution_count": null,
      "outputs": []
    },
    {
      "cell_type": "code",
      "metadata": {
        "id": "g2CY7-YCLw3n"
      },
      "source": [
        "from sklearn.model_selection import train_test_split\n",
        "x_alt_class = df_outliers.loc[:, df_outliers.columns != 'target_price_group']\n",
        "y_alt_class  = df_outliers[[\"target_price_group\"]]\n",
        "x_train_alt_class, x_test_alt_class, y_train_alt_class, y_test_alt_class = train_test_split(x_alt_class, y_alt_class, train_size=0.9, random_state=None)"
      ],
      "execution_count": null,
      "outputs": []
    },
    {
      "cell_type": "code",
      "metadata": {
        "id": "76zeB6qbLw6J"
      },
      "source": [
        "RandomForestClassification(x_train_alt_class,y_train_alt_class,x_test_alt_class,y_test_alt_class)"
      ],
      "execution_count": null,
      "outputs": []
    },
    {
      "cell_type": "code",
      "metadata": {
        "id": "wIskKgCwLw9I"
      },
      "source": [
        "knnClassification(x_train_alt_class,y_train_alt_class,x_test_alt_class,y_test_alt_class)"
      ],
      "execution_count": null,
      "outputs": []
    },
    {
      "cell_type": "code",
      "metadata": {
        "id": "riqpVDwiLxAB"
      },
      "source": [
        "DecisionTreeClassifier(x_train_alt_class,y_train_alt_class,x_test_alt_class,y_test_alt_class)"
      ],
      "execution_count": null,
      "outputs": []
    },
    {
      "cell_type": "code",
      "metadata": {
        "id": "5nqU_414LxCg"
      },
      "source": [
        "SVClassification(x_train_alt_class,y_train_alt_class,x_test_alt_class,y_test_alt_class)"
      ],
      "execution_count": null,
      "outputs": []
    },
    {
      "cell_type": "code",
      "metadata": {
        "id": "c0_X1KGPL9Wt"
      },
      "source": [
        "from sklearn.model_selection import train_test_split\n",
        "x_alt_class_july = df1_outliers.loc[:, df1_outliers.columns != 'target_price_group']\n",
        "y_alt_class_july  = df1_outliers[[\"target_price_group\"]]\n",
        "x_train_alt_class_july, x_test_alt_class_july, y_train_alt_class_july, y_test_alt_class_july = train_test_split(x_alt_class_july, y_alt_class_july, train_size=0.9, random_state=None)"
      ],
      "execution_count": null,
      "outputs": []
    },
    {
      "cell_type": "code",
      "metadata": {
        "id": "Q-r83ZpAMBFn"
      },
      "source": [
        "knnClassification(x_train_alt_class_july,y_train_alt_class_july,x_test_alt_class_july,y_test_alt_class_july)"
      ],
      "execution_count": null,
      "outputs": []
    },
    {
      "cell_type": "code",
      "metadata": {
        "id": "ADk6gb1rMBIQ"
      },
      "source": [
        "DecisionTreeClassifier(x_train_alt_class_july,y_train_alt_class_july,x_test_alt_class_july,y_test_alt_class_july)"
      ],
      "execution_count": null,
      "outputs": []
    },
    {
      "cell_type": "code",
      "metadata": {
        "id": "jO0ZkC4vMBLP"
      },
      "source": [
        "SVClassification(x_train_alt_class_july,y_train_alt_class_july,x_test_alt_class_july,y_test_alt_class_july)"
      ],
      "execution_count": null,
      "outputs": []
    },
    {
      "cell_type": "code",
      "metadata": {
        "id": "fgXwTl5NMHgJ"
      },
      "source": [
        "RandomForestClassification(x_train_alt_class_july,y_train_alt_class_july,x_test_alt_class_july,y_test_alt_class_july)"
      ],
      "execution_count": null,
      "outputs": []
    }
  ]
}